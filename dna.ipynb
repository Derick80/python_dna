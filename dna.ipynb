{
 "cells": [
  {
   "cell_type": "markdown",
   "metadata": {},
   "source": [
    "Create a Reverse Compliment Script with Python"
   ]
  },
  {
   "cell_type": "code",
   "execution_count": 1,
   "metadata": {},
   "outputs": [
    {
     "name": "stdout",
     "output_type": "stream",
     "text": [
      "you have entered: 'ATGCTC'\n",
      "the rev comp is: 'GAGCAT' \n"
     ]
    }
   ],
   "source": [
    "def complement(DNA):\n",
    "    comp = {'A':'T', 'C':'G', 'G':'C', 'T':'A'}\n",
    "    compDNA = ''\n",
    "    for i in DNA: \n",
    "        compDNA += comp[i]\n",
    "    return compDNA\n",
    "\n",
    "def reverse(DNA):\n",
    "    return DNA[::-1]\n",
    "\n",
    "\n",
    "def reverse_complement(DNA):\n",
    "    compDNA = complement(DNA)\n",
    "    revCompDNA = reverse(compDNA)\n",
    "    return revCompDNA\n",
    "\n",
    "DNA = input(\"please enter a DNA sequence\")\n",
    "revCompDNA = reverse_complement(DNA)\n",
    "print(f\"you have entered: '{DNA}'\")\n",
    "print(f\"the rev comp is: '{revCompDNA}' \")"
   ]
  }
 ],
 "metadata": {
  "interpreter": {
   "hash": "4d2625e52ccf3af0dca9aea5839ab7f39be235e708acbd850a8e1a19fad02262"
  },
  "kernelspec": {
   "display_name": "Python 3.10.1 64-bit ('.venv': venv)",
   "language": "python",
   "name": "python3"
  },
  "language_info": {
   "codemirror_mode": {
    "name": "ipython",
    "version": 3
   },
   "file_extension": ".py",
   "mimetype": "text/x-python",
   "name": "python",
   "nbconvert_exporter": "python",
   "pygments_lexer": "ipython3",
   "version": "3.10.1"
  },
  "orig_nbformat": 4
 },
 "nbformat": 4,
 "nbformat_minor": 2
}
