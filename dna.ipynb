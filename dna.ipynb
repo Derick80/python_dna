{
 "cells": [
  {
   "cell_type": "markdown",
   "metadata": {},
   "source": [
    "Create a Reverse Compliment Script with Python"
   ]
  },
  {
   "cell_type": "code",
   "execution_count": null,
   "metadata": {},
   "outputs": [],
   "source": [
    "def complement(DNA):\n",
    "    comp = {'A':'T', 'C':'G', 'G':'C', 'T':'A'}\n",
    "    compDNA = ''\n",
    "    for i in DNA: \n",
    "        compDNA += comp[i]\n",
    "    return compDNA\n",
    "\n",
    "def reverse(DNA):\n",
    "    return DNA[::-1]\n",
    "\n",
    "\n",
    "def reverse_complement(DNA):\n",
    "    compDNA = complement(DNA)\n",
    "    revCompDNA = reverse(compDNA)\n",
    "    return revCompDNA\n",
    "\n",
    "DNA = input(\"please enter a DNA sequence\")\n",
    "revCompDNA = reverse_complement(DNA)\n",
    "print(f\"you have entered: '{DNA}'\")\n",
    "print(f\"the rev comp is: '{revCompDNA}' \")"
   ]
  }
 ],
 "metadata": {
  "language_info": {
   "name": "python"
  },
  "orig_nbformat": 4
 },
 "nbformat": 4,
 "nbformat_minor": 2
}
